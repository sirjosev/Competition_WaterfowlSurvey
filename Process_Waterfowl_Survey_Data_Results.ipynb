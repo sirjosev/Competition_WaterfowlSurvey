{
  "nbformat": 4,
  "nbformat_minor": 0,
  "metadata": {
    "colab": {
      "provenance": []
    },
    "kernelspec": {
      "name": "python3",
      "display_name": "Python 3"
    },
    "language_info": {
      "name": "python"
    }
  },
  "cells": [
    {
      "cell_type": "markdown",
      "source": [
        "To solve this problem, we need to process an array of duck survey reports, converting common duck names into specific six-letter codes, summing counts for each species, and returning the results sorted by these codes. Additionally, we must check for the presence of an extinct species, which disqualifies the entire dataset if found.\n",
        "\n",
        "## Approach\n",
        "1. **Check for Disqualification**: Iterate through each report to check if it contains the extinct species \"Labrador Duck\". If found, return `[\"Disqualified data\"]`.\n",
        "\n",
        "2. **Convert Names to Codes**: For each valid report, convert the duck name into a six-letter code using specific rules based on the number of words in the name.\n",
        "\n",
        "3. **Sum Counts**: Aggregate the counts for each species using the generated codes.\n",
        "\n",
        "4. **Sort and Format Output**: Sort the codes alphabetically and format the results into an array alternating between codes and their respective counts."
      ],
      "metadata": {
        "id": "P8mEJT7FtHO-"
      }
    },
    {
      "cell_type": "markdown",
      "source": [
        "## Solution Code"
      ],
      "metadata": {
        "id": "misvDBaMtmCm"
      }
    },
    {
      "cell_type": "code",
      "execution_count": 1,
      "metadata": {
        "id": "6l77TgNUstWW"
      },
      "outputs": [],
      "source": [
        "def create_report(names):\n",
        "    # Check for disqualification due to Labrador Duck\n",
        "    for entry in names:\n",
        "        parts = entry.split()\n",
        "        name_part = parts[:-1]\n",
        "        count_str = parts[-1]\n",
        "        name = ' '.join(name_part)\n",
        "        processed_name = name.replace('-', ' ')\n",
        "        words = processed_name.split()\n",
        "        if ' '.join(words) == 'Labrador Duck':\n",
        "            return [\"Disqualified data\"]\n",
        "\n",
        "    # Process each entry to generate codes and sum counts\n",
        "    counts = {}\n",
        "    for entry in names:\n",
        "        parts = entry.split()\n",
        "        name_part = parts[:-1]\n",
        "        count_str = parts[-1]\n",
        "        name = ' '.join(name_part)\n",
        "        code = get_code(name)\n",
        "        count = int(count_str)\n",
        "        counts[code] = counts.get(code, 0) + count\n",
        "\n",
        "    # Sort the codes lexicographically and build the result list\n",
        "    sorted_codes = sorted(counts.keys())\n",
        "    result = []\n",
        "    for code in sorted_codes:\n",
        "        result.append(code)\n",
        "        result.append(counts[code])\n",
        "    return result\n",
        "\n",
        "def get_code(name):\n",
        "    processed = name.replace('-', ' ')\n",
        "    words = processed.split()\n",
        "    word_count = len(words)\n",
        "    code = ''\n",
        "\n",
        "    if word_count == 1:\n",
        "        code = words[0][:6]\n",
        "    elif word_count == 2:\n",
        "        code = words[0][:3] + words[1][:3]\n",
        "    elif word_count == 3:\n",
        "        code = ''.join([word[:2] for word in words])\n",
        "    elif word_count == 4:\n",
        "        code = words[0][:1] + words[1][:1] + words[2][:2] + words[3][:2]\n",
        "\n",
        "    return code.upper()"
      ]
    },
    {
      "cell_type": "markdown",
      "source": [
        "## Explanation\n",
        "1. **Disqualification Check**: Each report is split into parts to separate the name and count. The name is processed to replace hyphens with spaces and checked against \"Labrador Duck\".\n",
        "\n",
        "2. **Code Conversion**: The get_code function processes each name by replacing hyphens with spaces and splitting into words. Depending on the number of words, it generates a six-letter code using substring operations.\n",
        "\n",
        "3. **Count Aggregation**: Counts are aggregated using a dictionary where keys are the generated codes.\n",
        "\n",
        "4. **Sorting and Formatting**: The codes are sorted alphabetically, and the results are formatted into an array with codes followed by their respective counts.\n",
        "\n",
        "This approach ensures efficient processing and aggregation of data, adhering to the specified rules and handling edge cases like disqualification appropriately."
      ],
      "metadata": {
        "id": "U03sWoS5tyl-"
      }
    },
    {
      "cell_type": "markdown",
      "source": [
        "## Platform Test\n",
        "Only able running on Codewars platform\n",
        "https://www.codewars.com/kata/5b0737c724c0686bf8000172/"
      ],
      "metadata": {
        "id": "IUO2uyHAvgKc"
      }
    },
    {
      "cell_type": "code",
      "source": [
        "test.assert_equals(create_report([\"Redhead 3\", \"Gadwall  1\", \"Smew 4\", \"Greater Scaup 10\", \"Redhead 3\", \"Gadwall 9\", \"Greater Scaup  15\", \"Common Eider 6\"]), [\"COMEID\", 6, \"GADWAL\", 10, \"GRESCA\", 25, \"REDHEA\", 6, \"SMEW\", 4])"
      ],
      "metadata": {
        "id": "oBEW0eeoysHg"
      },
      "execution_count": null,
      "outputs": []
    }
  ]
}